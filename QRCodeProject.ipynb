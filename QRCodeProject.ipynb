{
 "cells": [
  {
   "cell_type": "markdown",
   "id": "d3a5e277-a685-4d22-8249-ad723e36bc64",
   "metadata": {},
   "source": [
    "# QR Code Generator \n"
   ]
  },
  {
   "cell_type": "code",
   "execution_count": 2,
   "id": "ee5862fe-cc3f-4061-a26d-01ba30fbd61f",
   "metadata": {},
   "outputs": [
    {
     "name": "stdout",
     "output_type": "stream",
     "text": [
      "Requirement already satisfied: qrcode in c:\\users\\91931\\anaconda3\\lib\\site-packages (7.4.2)\n",
      "Requirement already satisfied: pillow in c:\\users\\91931\\anaconda3\\lib\\site-packages (10.2.0)\n",
      "Requirement already satisfied: typing-extensions in c:\\users\\91931\\anaconda3\\lib\\site-packages (from qrcode) (4.9.0)\n",
      "Requirement already satisfied: pypng in c:\\users\\91931\\anaconda3\\lib\\site-packages (from qrcode) (0.20220715.0)\n",
      "Requirement already satisfied: colorama in c:\\users\\91931\\anaconda3\\lib\\site-packages (from qrcode) (0.4.6)\n",
      "Note: you may need to restart the kernel to use updated packages.\n"
     ]
    }
   ],
   "source": [
    "pip install qrcode pillow"
   ]
  },
  {
   "cell_type": "code",
   "execution_count": 3,
   "id": "ed9eb9d9-395d-467d-a23b-5e5bd54de215",
   "metadata": {},
   "outputs": [],
   "source": [
    "import qrcode\n",
    "from PIL import Image, ImageDraw, ImageFont\n",
    "import tkinter as tk\n",
    "from tkinter import filedialog, messagebox"
   ]
  },
  {
   "cell_type": "code",
   "execution_count": 4,
   "id": "9b210d66-239e-4008-b327-eaa6dd97bb0d",
   "metadata": {},
   "outputs": [],
   "source": [
    "def generate_qr():\n",
    "    website_link = entry_link.get()\n",
    "    file_name = entry_filename.get()\n",
    "\n",
    "    if not website_link or not file_name:\n",
    "        messagebox.showerror(\"Please enter both the link and file name.\")\n",
    "        return\n",
    "\n",
    "    if not file_name.endswith('.png'):\n",
    "        file_name += '.png'\n",
    "\n",
    "    qr = qrcode.QRCode(version=1, box_size=20, border=8)\n",
    "    qr.add_data(website_link)\n",
    "    qr.make()\n",
    "    img = qr.make_image(fill_color='darkred', back_color='white').convert('RGB')\n",
    "    \n",
    "    save_path = filedialog.asksaveasfilename(defaultextension=\".png\", initialfile=file_name)\n",
    "    if save_path:\n",
    "        img.save(save_path)\n",
    "        messagebox.showinfo(\"Success\", f\"QR code saved as {save_path}\")\n",
    "        root.destroy()"
   ]
  },
  {
   "cell_type": "code",
   "execution_count": 5,
   "id": "41725335-0365-4208-98ec-0850c53072fb",
   "metadata": {},
   "outputs": [
    {
     "data": {
      "text/plain": [
       "''"
      ]
     },
     "execution_count": 5,
     "metadata": {},
     "output_type": "execute_result"
    }
   ],
   "source": [
    "root = tk.Tk()\n",
    "root.title(\"QR Code Generator\")\n",
    "root.geometry('500x300')"
   ]
  },
  {
   "cell_type": "code",
   "execution_count": 6,
   "id": "c4aef1d0-8ccc-4788-be00-cb94e87cba64",
   "metadata": {},
   "outputs": [],
   "source": [
    "label_link = tk.Label(root, text=\"Enter website link:\")\n",
    "label_link.pack(pady=5)\n",
    "entry_link = tk.Entry(root, width=50)\n",
    "entry_link.pack(pady=5)"
   ]
  },
  {
   "cell_type": "code",
   "execution_count": 7,
   "id": "01e24dff-1358-4199-9f98-880786ecfe5e",
   "metadata": {},
   "outputs": [],
   "source": [
    "label_filename = tk.Label(root, text=\"Enter desired file name:\")\n",
    "label_filename.pack(pady=5)\n",
    "entry_filename = tk.Entry(root, width=50)\n",
    "entry_filename.pack(pady=5)"
   ]
  },
  {
   "cell_type": "code",
   "execution_count": null,
   "id": "c5d2edcc-af56-46d6-8d1c-9e17b6f55a02",
   "metadata": {},
   "outputs": [],
   "source": [
    "generate_button = tk.Button(root, text=\"Generate QR Code\", command=generate_qr)\n",
    "generate_button.pack(pady=20)\n",
    "\n",
    "# Run the application\n",
    "root.mainloop()"
   ]
  },
  {
   "cell_type": "code",
   "execution_count": null,
   "id": "65ecf0d3-c1cd-4502-8fb6-5cc5f7c4294c",
   "metadata": {},
   "outputs": [],
   "source": []
  }
 ],
 "metadata": {
  "kernelspec": {
   "display_name": "Python 3 (ipykernel)",
   "language": "python",
   "name": "python3"
  },
  "language_info": {
   "codemirror_mode": {
    "name": "ipython",
    "version": 3
   },
   "file_extension": ".py",
   "mimetype": "text/x-python",
   "name": "python",
   "nbconvert_exporter": "python",
   "pygments_lexer": "ipython3",
   "version": "3.11.7"
  }
 },
 "nbformat": 4,
 "nbformat_minor": 5
}
